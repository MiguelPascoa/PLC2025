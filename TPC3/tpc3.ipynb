{
 "cells": [
  {
   "cell_type": "markdown",
   "id": "9f274cd4",
   "metadata": {},
   "source": [
    "## Analisador Léxico\n",
    "\n",
    "### Construir um analisador léxico para uma liguagem de query com a qual se podem escrever frases do género:"
   ]
  },
  {
   "cell_type": "code",
   "execution_count": 14,
   "id": "044e0f9f",
   "metadata": {},
   "outputs": [],
   "source": [
    "import re"
   ]
  },
  {
   "cell_type": "markdown",
   "id": "72e67fee",
   "metadata": {},
   "source": [
    "- Reconhecer os seguintes elementos da lista sintax de SPARQL:"
   ]
  },
  {
   "cell_type": "code",
   "execution_count": 15,
   "id": "3d1daee0",
   "metadata": {},
   "outputs": [],
   "source": [
    "tokens = [\n",
    "        ('NEWLINE', r'\\n'),\n",
    "        ('SKIP', r'[ \\t]+'),\n",
    "        ('PREFIX', r'PREFIX\\b'),\n",
    "        ('SELECT', r'SELECT\\b'),\n",
    "        ('WHERE', r'WHERE\\b'),\n",
    "        ('OPTIONAL', r'OPTIONAL\\b'),\n",
    "        ('FILTER', r'FILTER\\b'),\n",
    "        ('VAR', r'\\?[a-zA-Z_][\\w]*'),     \n",
    "        ('URI', r'<[^>]*>'),              \n",
    "        ('IDENT', r':[a-zA-Z_][\\w]*'),    \n",
    "        ('INT', r'\\d+'),\n",
    "        ('STRING', r'\"[^\"]*\"'),\n",
    "        ('OP', r'[=!<>]+'),\n",
    "        ('PUNCT', r'[{}.;,]'),\n",
    "        ('ERRO', r'.')                    \n",
    "    ]"
   ]
  },
  {
   "cell_type": "markdown",
   "id": "859c9217",
   "metadata": {},
   "source": [
    "### Exemplo : \n",
    "\n",
    "- Input : \n",
    "```\n",
    "SELECT ?x ?nome ?idade WHERE \n",
    "{\n",
    "  ?x a :Aluno ;\n",
    "     :temNome ?nome ;\n",
    "     :temIdade ?idade .\n",
    "}\n",
    "```\n",
    "- Output : \n",
    "```\n",
    "('SELECT', 'SELECT', 1, (0, 6))\n",
    "('VAR', '?x', 1, (7, 9))\n",
    "('VAR', '?nome', 1, (10, 15))\n",
    "('VAR', '?idade', 1, (16, 22))\n",
    "('WHERE', 'WHERE', 1, (23, 28))\n",
    "('NEWLINE', '\\n', 2, (29, 30))\n",
    "('PUNCT', '{', 2, (30, 31))\n",
    "('NEWLINE', '\\n', 3, (31, 32))\n",
    "('VAR', '?x', 3, (34, 36))\n",
    "('ERRO', 'a', 3, (37, 38))\n",
    "('IDENT', ':Aluno', 3, (39, 45))\n",
    "('PUNCT', ';', 3, (46, 47))\n",
    "('NEWLINE', '\\n', 4, (47, 48))\n",
    "('IDENT', ':temNome', 4, (53, 61))\n",
    "('VAR', '?nome', 4, (62, 67))\n",
    "('PUNCT', ';', 4, (68, 69))\n",
    "('NEWLINE', '\\n', 5, (69, 70))\n",
    "('IDENT', ':temIdade', 5, (75, 84))\n",
    "('VAR', '?idade', 5, (85, 91))\n",
    "('PUNCT', '.', 5, (92, 93))\n",
    "('NEWLINE', '\\n', 6, (93, 94))\n",
    "('PUNCT', '}', 6, (94, 95))"
   ]
  },
  {
   "cell_type": "markdown",
   "id": "0849919b",
   "metadata": {},
   "source": [
    "### Implementação : "
   ]
  },
  {
   "cell_type": "code",
   "execution_count": 16,
   "id": "5255f640",
   "metadata": {},
   "outputs": [
    {
     "name": "stdout",
     "output_type": "stream",
     "text": [
      "('SELECT', 'SELECT', 1, (0, 6))\n",
      "('VAR', '?x', 1, (7, 9))\n",
      "('VAR', '?nome', 1, (10, 15))\n",
      "('VAR', '?idade', 1, (16, 22))\n",
      "('WHERE', 'WHERE', 1, (23, 28))\n",
      "('NEWLINE', '\\n', 2, (29, 30))\n",
      "('PUNCT', '{', 2, (30, 31))\n",
      "('NEWLINE', '\\n', 3, (31, 32))\n",
      "('VAR', '?x', 3, (34, 36))\n",
      "('ERRO', 'a', 3, (37, 38))\n",
      "('IDENT', ':Aluno', 3, (39, 45))\n",
      "('PUNCT', ';', 3, (46, 47))\n",
      "('NEWLINE', '\\n', 4, (47, 48))\n",
      "('IDENT', ':temNome', 4, (53, 61))\n",
      "('VAR', '?nome', 4, (62, 67))\n",
      "('PUNCT', ';', 4, (68, 69))\n",
      "('NEWLINE', '\\n', 5, (69, 70))\n",
      "('IDENT', ':temIdade', 5, (75, 84))\n",
      "('VAR', '?idade', 5, (85, 91))\n",
      "('PUNCT', '.', 5, (92, 93))\n",
      "('NEWLINE', '\\n', 6, (93, 94))\n",
      "('PUNCT', '}', 6, (94, 95))\n"
     ]
    }
   ],
   "source": [
    "def tokenizerSPARQL(query):\n",
    "    reconhecidos = []\n",
    "    linha = 1\n",
    "    \n",
    "    # Tokens em cima já escritos \n",
    "\n",
    "    token_regex = '|'.join(f'(?P<{name}>{pattern})' for name, pattern in tokens)\n",
    "    \n",
    "    for r in re.finditer(token_regex, query):\n",
    "        dic = r.groupdict()\n",
    "        tipo = None\n",
    "        valor = r.group()\n",
    "        for key in dic:\n",
    "            if dic[key]:\n",
    "                tipo = key\n",
    "                break\n",
    "        if tipo == 'NEWLINE':\n",
    "            linha += 1\n",
    "            reconhecidos.append((tipo, valor, linha, r.span()))\n",
    "        elif tipo != 'SKIP':\n",
    "            reconhecidos.append((tipo, valor, linha, r.span()))\n",
    "    \n",
    "    return reconhecidos\n",
    "\n",
    "\n",
    "# Query SPARQL de exemplo\n",
    "query = \"\"\"SELECT ?x ?nome ?idade WHERE \n",
    "{\n",
    "  ?x a :Aluno ;\n",
    "     :temNome ?nome ;\n",
    "     :temIdade ?idade .\n",
    "}\"\"\"\n",
    "\n",
    "# Testar o tokenizer\n",
    "tokens = tokenizerSPARQL(query)\n",
    "for t in tokens:\n",
    "    print(t)\n"
   ]
  }
 ],
 "metadata": {
  "kernelspec": {
   "display_name": ".venv (3.13.7)",
   "language": "python",
   "name": "python3"
  },
  "language_info": {
   "codemirror_mode": {
    "name": "ipython",
    "version": 3
   },
   "file_extension": ".py",
   "mimetype": "text/x-python",
   "name": "python",
   "nbconvert_exporter": "python",
   "pygments_lexer": "ipython3",
   "version": "3.13.7"
  }
 },
 "nbformat": 4,
 "nbformat_minor": 5
}
