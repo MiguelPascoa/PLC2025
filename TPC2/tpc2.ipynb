{
 "cells": [
  {
   "cell_type": "markdown",
   "id": "c855e091",
   "metadata": {},
   "source": [
    "## TPC2: Conversor de MarkDown para HTML\n",
    "\n",
    "Criar em Python um pequeno conversor de MarkDown para HTML para os elementos descritos na \"Basic Syntax\" da Cheat Sheet:"
   ]
  },
  {
   "cell_type": "code",
   "execution_count": 5,
   "id": "3eb15faf",
   "metadata": {},
   "outputs": [],
   "source": [
    "import re"
   ]
  },
  {
   "cell_type": "markdown",
   "id": "998f7dc9",
   "metadata": {},
   "source": [
    "### Cabeçalhos: linhas iniciadas por \"# texto\", ou \"## texto\" ou \"### texto\"\n",
    "\n",
    "In: `# Exemplo`\n",
    "\n",
    "Out: `<h1>Exemplo</h1>`"
   ]
  },
  {
   "cell_type": "code",
   "execution_count": 12,
   "id": "27e4b5f7",
   "metadata": {},
   "outputs": [
    {
     "name": "stdout",
     "output_type": "stream",
     "text": [
      "<h1>alunoX</h1>\n",
      "<h2>tpc</h2>\n",
      "<h3>PLC</h3>\n",
      "<h2>tentativa.</h2>\n",
      "ola\n"
     ]
    }
   ],
   "source": [
    "exemplo1 = \"# alunoX\"\n",
    "exemplo2 = \"## tpc\"\n",
    "exemplo3 = \"### PLC\"\n",
    "exemploextra = \"## tentativa.\"\n",
    "casoparagem = \"ola\"\n",
    "\n",
    "def conversor_cabecalho(texto):\n",
    "    #inicio = #{1,3} , seguido de string \\s + \"possível(.)\n",
    "    tipo = re.compile(r\"^(#{1,3})\\s+(.+)\")\n",
    "    m = tipo.match(texto)\n",
    "    if not m:\n",
    "        return texto\n",
    "    nivel = len(m.group(1))\n",
    "    mensagem = m.group(2)\n",
    "\n",
    "    return f\"<h{nivel}>{mensagem}</h{nivel}>\"\n",
    "\n",
    "print(conversor_cabecalho(exemplo1))\n",
    "print(conversor_cabecalho(exemplo2))\n",
    "print(conversor_cabecalho(exemplo3))\n",
    "print(conversor_cabecalho(exemploextra))\n",
    "print(conversor_cabecalho(casoparagem))"
   ]
  },
  {
   "cell_type": "markdown",
   "id": "86accadd",
   "metadata": {},
   "source": [
    "### Bold: pedaços de texto entre \"**\":\n",
    "\n",
    "In: `Este é um **exemplo** ...`\n",
    "\n",
    "Out: `Este é um <b>exemplo</b> ...`\n",
    "\n",
    "### Itálico: pedaços de texto entre \"*\":\n",
    "\n",
    "In: `Este é um *exemplo* ...`\n",
    "\n",
    "Out: `Este é um <i>exemplo</i> ...`"
   ]
  },
  {
   "cell_type": "code",
   "execution_count": 13,
   "id": "488ac212",
   "metadata": {},
   "outputs": [
    {
     "name": "stdout",
     "output_type": "stream",
     "text": [
      "Este é um <b>exemplo</b>\n",
      "Este é um <i>exemplo</i>\n",
      "Este é um exemplo\n",
      "Este é um <b><i>exemplo</i></b>\n"
     ]
    }
   ],
   "source": [
    "exemplo1 = \"Este é um **exemplo**\"\n",
    "exemplo2 = \"Este é um *exemplo*\"\n",
    "exemplo3 = \"Este é um exemplo\"\n",
    "exemplo4 = \"Este é um ***exemplo***\"\n",
    "\n",
    "def bold_italico(texto):\n",
    "    texto = re.sub(r\"\\*\\*\\*(.+?)\\*\\*\\*\", r\"<b><i>\\1</i></b>\", texto)\n",
    "    texto = re.sub(r\"\\*\\*(.+?)\\*\\*\", r\"<b>\\1</b>\", texto)\n",
    "    texto = re.sub(r\"\\*(.+?)\\*\", r\"<i>\\1</i>\", texto)\n",
    "    return texto\n",
    "\n",
    "print(bold_italico(exemplo1))\n",
    "print(bold_italico(exemplo2))\n",
    "print(bold_italico(exemplo3))\n",
    "print(bold_italico(exemplo4))"
   ]
  },
  {
   "cell_type": "markdown",
   "id": "ea8ac7a0",
   "metadata": {},
   "source": [
    "### Lista numerada:\n",
    "\n",
    "In:\n",
    "```\n",
    "1. Primeiro item\n",
    "2. Segundo item\n",
    "3. Terceiro item\n",
    "```\n",
    "\n",
    "Out:\n",
    "```\n",
    "<ol>\n",
    "<li>Primeiro item</li>\n",
    "<li>Segundo item</li>\n",
    "<li>Terceiro item</li>\n",
    "</ol>\n",
    "```"
   ]
  },
  {
   "cell_type": "code",
   "execution_count": 14,
   "id": "8578e856",
   "metadata": {},
   "outputs": [
    {
     "name": "stdout",
     "output_type": "stream",
     "text": [
      "<ol>\n",
      "<li>Primeiro item</li>\n",
      "<li>Segundo item</li>\n",
      "<li>Terceiro item</li>\n",
      "</ol>\n"
     ]
    }
   ],
   "source": [
    "import re\n",
    "\n",
    "exemplo = \"\"\"1. Primeiro item\n",
    "2. Segundo item\n",
    "3. Terceiro item\"\"\"\n",
    "\n",
    "def lista_numerada(lista):\n",
    "    linhas = lista.splitlines()\n",
    "    output = []\n",
    "    na_lista = False\n",
    "    itens = []\n",
    "\n",
    "    padrao = re.compile(r'^\\s*\\d+\\.\\s+(.*)$')\n",
    "\n",
    "    for linha in linhas:\n",
    "        m = padrao.match(linha)\n",
    "        if m:\n",
    "            conteudo = m.group(1)\n",
    "            if not na_lista:\n",
    "                na_lista = True\n",
    "                itens = []\n",
    "            itens.append(conteudo)\n",
    "        else:\n",
    "            if na_lista:\n",
    "                output.append(\"<ol>\")\n",
    "                for item in itens:\n",
    "                    output.append(f\"<li>{item}</li>\")\n",
    "                output.append(\"</ol>\") \n",
    "                na_lista = False\n",
    "                itens = []\n",
    "            output.append(linha) \n",
    "\n",
    "    # fechar lista se acabou dentro de uma lista\n",
    "    if na_lista:\n",
    "        output.append(\"<ol>\")\n",
    "        for item in itens:\n",
    "            output.append(f\"<li>{item}</li>\")\n",
    "        output.append(\"</ol>\")\n",
    "\n",
    "    return \"\\n\".join(output)\n",
    "\n",
    "print(lista_numerada(exemplo))\n"
   ]
  },
  {
   "cell_type": "markdown",
   "id": "da0c2134",
   "metadata": {},
   "source": [
    "### Link: [texto](endereço URL)\n",
    "\n",
    "In: `Como pode ser consultado em [página da UC](http://www.uc.pt)`\n",
    "\n",
    "Out: `Como pode ser consultado em <a href=\"http://www.uc.pt\">página da UC</a>`"
   ]
  },
  {
   "cell_type": "code",
   "execution_count": 15,
   "id": "10b815ed",
   "metadata": {},
   "outputs": [
    {
     "name": "stdout",
     "output_type": "stream",
     "text": [
      "Como pode ser consultado em [página da UC](http://www.uc.pt)\n",
      "Como pode ser consultado em <a href=\"http://www.uc.pt\">página da UC</a>\n"
     ]
    }
   ],
   "source": [
    "exemplo = \"Como pode ser consultado em [página da UC](http://www.uc.pt)\"\n",
    "\n",
    "def texto_link(link):\n",
    "    texto = re.compile(r\"\\[([^\\]]+)\\]\\(([^)]+)\\)\")\n",
    "    #Lambda m usado para não criar outra função\n",
    "    return texto.sub(lambda m: f'<a href=\"{m.group(2)}\">{m.group(1)}</a>', link)\n",
    "\n",
    "print(exemplo)\n",
    "print(texto_link(exemplo))\n"
   ]
  },
  {
   "cell_type": "markdown",
   "id": "4b867de4",
   "metadata": {},
   "source": [
    "### Imagem: ![texto alternativo](path para a imagem)\n",
    "\n",
    "In: `Como se vê na imagem seguinte: ![imagem dum coelho](http://www.coellho.com) ...`\n",
    "\n",
    "Out: `Como se vê na imagem seguinte: <img src=\"http://www.coellho.com\" alt=\"imagem dum coelho\"/> ...`"
   ]
  },
  {
   "cell_type": "code",
   "execution_count": 16,
   "id": "0ae962bf",
   "metadata": {},
   "outputs": [
    {
     "name": "stdout",
     "output_type": "stream",
     "text": [
      "Como se vê na imagem seguinte: ![imagem dum coelho](http://www.coellho.com) ...\n",
      "Como se vê na imagem seguinte: <img src=\"http://www.coellho.com\" alt=\"imagem dum coelho\"/> ...\n"
     ]
    }
   ],
   "source": [
    "exemplo = r\"Como se vê na imagem seguinte: ![imagem dum coelho](http://www.coellho.com) ...\"\n",
    "\n",
    "def mudar_imagem(linha):\n",
    "    regex = re.compile(r\"!\\[([^\\]]+)\\]\\(([^)]+)\\)\")\n",
    "    return regex.sub(lambda m: f'<img src=\"{m.group(2)}\" alt=\"{m.group(1)}\"/>', linha)\n",
    "\n",
    "print(exemplo)\n",
    "print(mudar_imagem(exemplo))\n"
   ]
  },
  {
   "cell_type": "markdown",
   "id": "085101bc",
   "metadata": {},
   "source": [
    "# Conversor"
   ]
  },
  {
   "cell_type": "code",
   "execution_count": 17,
   "id": "55a486ff",
   "metadata": {},
   "outputs": [
    {
     "name": "stdout",
     "output_type": "stream",
     "text": [
      "<h2>Título</h2>\n",
      "Texto em <b>negrito</b> e <i>itálico</i>\n",
      "<ol>\n",
      "<li>Primeiro Item</li>\n",
      "<li>Segundo Item</li>\n",
      "</ol>\n",
      "Aqui temos um <a href=\"http://teste.com\">link</a>\n",
      "Aqui temos uma imagen <img src=\"http://img.com/x.png\" alt=\"alt\"/>\n"
     ]
    }
   ],
   "source": [
    "texto = \"\"\"## Título\n",
    "Texto em **negrito** e *itálico*\n",
    "1. Primeiro Item\n",
    "2. Segundo Item\n",
    "Aqui temos um [link](http://teste.com)\n",
    "Aqui temos uma imagen ![alt](http://img.com/x.png)\"\"\"\n",
    "\n",
    "def conversor_markdown_html(texto):\n",
    "    # lista de transformações\n",
    "    transformacoes = [\n",
    "        conversor_cabecalho,\n",
    "        bold_italico,\n",
    "        mudar_imagem,\n",
    "        texto_link\n",
    "    ]\n",
    "\n",
    "    # aplicar transformações linha a linha\n",
    "    linhas = []\n",
    "    for linha in texto.splitlines():\n",
    "        for func in transformacoes:\n",
    "            linha = func(linha)\n",
    "        linhas.append(linha)\n",
    "\n",
    "    # juntar linhas\n",
    "    texto = \"\\n\".join(linhas)\n",
    "    texto = lista_numerada(texto)\n",
    "\n",
    "    return texto\n",
    "\n",
    "print(conversor_markdown_html(texto))\n"
   ]
  }
 ],
 "metadata": {
  "kernelspec": {
   "display_name": ".venv (3.13.2)",
   "language": "python",
   "name": "python3"
  },
  "language_info": {
   "codemirror_mode": {
    "name": "ipython",
    "version": 3
   },
   "file_extension": ".py",
   "mimetype": "text/x-python",
   "name": "python",
   "nbconvert_exporter": "python",
   "pygments_lexer": "ipython3",
   "version": "3.13.2"
  }
 },
 "nbformat": 4,
 "nbformat_minor": 5
}
